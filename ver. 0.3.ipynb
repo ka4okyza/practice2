{
 "cells": [
  {
   "cell_type": "code",
   "execution_count": 2,
   "id": "ca4bc1c5",
   "metadata": {},
   "outputs": [],
   "source": [
    "import numpy as np\n",
    "import pandas as pd\n",
    "import seaborn as sns\n",
    "import matplotlib.pyplot as plt\n",
    "\n",
    "from sklearn.metrics import accuracy_score,classification_report, confusion_matrix\n",
    "from sklearn.model_selection import train_test_split\n",
    "from sklearn.linear_model import LinearRegression\n",
    "from sklearn.preprocessing import LabelEncoder\n",
    "from sklearn.model_selection import GridSearchCV\n",
    "from sklearn.preprocessing import StandardScaler\n",
    "from sklearn import tree\n",
    "from sklearn.tree import DecisionTreeRegressor\n",
    "from sklearn.datasets import load_diabetes\n",
    "from sklearn.model_selection import cross_val_score\n",
    "\n",
    "import warnings\n",
    "warnings.filterwarnings('ignore')"
   ]
  },
  {
   "cell_type": "code",
   "execution_count": 3,
   "id": "b0c441b9",
   "metadata": {},
   "outputs": [
    {
     "data": {
      "text/html": [
       "<div>\n",
       "<style scoped>\n",
       "    .dataframe tbody tr th:only-of-type {\n",
       "        vertical-align: middle;\n",
       "    }\n",
       "\n",
       "    .dataframe tbody tr th {\n",
       "        vertical-align: top;\n",
       "    }\n",
       "\n",
       "    .dataframe thead th {\n",
       "        text-align: right;\n",
       "    }\n",
       "</style>\n",
       "<table border=\"1\" class=\"dataframe\">\n",
       "  <thead>\n",
       "    <tr style=\"text-align: right;\">\n",
       "      <th></th>\n",
       "      <th>Time</th>\n",
       "      <th>T</th>\n",
       "      <th>Po</th>\n",
       "      <th>U</th>\n",
       "      <th>DD</th>\n",
       "      <th>Ff</th>\n",
       "      <th>RRR</th>\n",
       "    </tr>\n",
       "  </thead>\n",
       "  <tbody>\n",
       "    <tr>\n",
       "      <th>0</th>\n",
       "      <td>31.01.2022 21:00</td>\n",
       "      <td>1.0</td>\n",
       "      <td>739.3</td>\n",
       "      <td>92</td>\n",
       "      <td>14</td>\n",
       "      <td>1</td>\n",
       "      <td>0.0</td>\n",
       "    </tr>\n",
       "    <tr>\n",
       "      <th>1</th>\n",
       "      <td>31.01.2022 18:00</td>\n",
       "      <td>3.5</td>\n",
       "      <td>738.5</td>\n",
       "      <td>84</td>\n",
       "      <td>13</td>\n",
       "      <td>4</td>\n",
       "      <td>0.0</td>\n",
       "    </tr>\n",
       "    <tr>\n",
       "      <th>2</th>\n",
       "      <td>31.01.2022 15:00</td>\n",
       "      <td>6.5</td>\n",
       "      <td>736.8</td>\n",
       "      <td>64</td>\n",
       "      <td>5</td>\n",
       "      <td>4</td>\n",
       "      <td>0.0</td>\n",
       "    </tr>\n",
       "    <tr>\n",
       "      <th>3</th>\n",
       "      <td>31.01.2022 12:00</td>\n",
       "      <td>6.6</td>\n",
       "      <td>737.2</td>\n",
       "      <td>66</td>\n",
       "      <td>13</td>\n",
       "      <td>4</td>\n",
       "      <td>0.0</td>\n",
       "    </tr>\n",
       "    <tr>\n",
       "      <th>4</th>\n",
       "      <td>31.01.2022 09:00</td>\n",
       "      <td>2.0</td>\n",
       "      <td>737.2</td>\n",
       "      <td>84</td>\n",
       "      <td>0</td>\n",
       "      <td>1</td>\n",
       "      <td>0.0</td>\n",
       "    </tr>\n",
       "  </tbody>\n",
       "</table>\n",
       "</div>"
      ],
      "text/plain": [
       "               Time    T     Po   U  DD  Ff  RRR\n",
       "0  31.01.2022 21:00  1.0  739.3  92  14   1  0.0\n",
       "1  31.01.2022 18:00  3.5  738.5  84  13   4  0.0\n",
       "2  31.01.2022 15:00  6.5  736.8  64   5   4  0.0\n",
       "3  31.01.2022 12:00  6.6  737.2  66  13   4  0.0\n",
       "4  31.01.2022 09:00  2.0  737.2  84   0   1  0.0"
      ]
     },
     "execution_count": 3,
     "metadata": {},
     "output_type": "execute_result"
    }
   ],
   "source": [
    "df = pd.read_csv('weath.csv')\n",
    "\n",
    "#df = pd.read_csv(\"weather.csv\", skiprows=6, sep=\";\", skipinitialspace=True, parse_dates=[\"Местное время в Майкопе (аэропорт)\"])\n",
    "#df.rename(columns={'Местное время в Майкопе (аэропорт)': 'Time'}, inplace=True)\n",
    "\n",
    "#'''\n",
    "df = df.drop(['P','Pa','ff10','ff3','N','WW','W1','W2','Tn','Tx','Cl','Nh','H','Cm','Ch','VV','Td','tR','E','Tg','E\\'','sss'],axis=1)\n",
    "\n",
    "le = LabelEncoder()\n",
    "le.fit(df['DD'])\n",
    "df['DD'] = le.transform(df['DD'])\n",
    "\n",
    "df.loc[(df.RRR == 'Осадков нет'), 'RRR'] = 0.0\n",
    "df.loc[(df.RRR == 'Следы осадков'), 'RRR'] = 0.0\n",
    "\n",
    "df['RRR'] = df['RRR'].fillna(df['RRR'].median())\n",
    "\n",
    "df[\"RRR\"] = pd.to_numeric(df[\"RRR\"], downcast=\"float\")\n",
    "#'''\n",
    "\n",
    "df.head()"
   ]
  },
  {
   "cell_type": "code",
   "execution_count": 4,
   "id": "75833c0c",
   "metadata": {},
   "outputs": [
    {
     "name": "stdout",
     "output_type": "stream",
     "text": [
      "<class 'pandas.core.frame.DataFrame'>\n",
      "RangeIndex: 248 entries, 0 to 247\n",
      "Data columns (total 7 columns):\n",
      " #   Column  Non-Null Count  Dtype  \n",
      "---  ------  --------------  -----  \n",
      " 0   Time    248 non-null    object \n",
      " 1   T       248 non-null    float64\n",
      " 2   Po      248 non-null    float64\n",
      " 3   U       248 non-null    int64  \n",
      " 4   DD      248 non-null    int64  \n",
      " 5   Ff      248 non-null    int64  \n",
      " 6   RRR     248 non-null    float32\n",
      "dtypes: float32(1), float64(2), int64(3), object(1)\n",
      "memory usage: 12.7+ KB\n"
     ]
    }
   ],
   "source": [
    "df.info()"
   ]
  },
  {
   "cell_type": "code",
   "execution_count": 5,
   "id": "96c99faf",
   "metadata": {
    "scrolled": true
   },
   "outputs": [
    {
     "name": "stdout",
     "output_type": "stream",
     "text": [
      "            T        Po         U        DD        Ff       RRR\n",
      "T    1.000000 -0.407539 -0.644019  0.094679  0.324068 -0.149516\n",
      "Po  -0.407539  1.000000  0.237777 -0.043585 -0.347565 -0.056571\n",
      "U   -0.644019  0.237777  1.000000 -0.251784 -0.446191  0.209291\n",
      "DD   0.094679 -0.043585 -0.251784  1.000000 -0.091662 -0.016385\n",
      "Ff   0.324068 -0.347565 -0.446191 -0.091662  1.000000  0.009826\n",
      "RRR -0.149516 -0.056571  0.209291 -0.016385  0.009826  1.000000\n"
     ]
    },
    {
     "data": {
      "text/plain": [
       "<AxesSubplot:>"
      ]
     },
     "execution_count": 5,
     "metadata": {},
     "output_type": "execute_result"
    },
    {
     "data": {
      "image/png": "[encoded data removed]",
      "text/plain": [
       "<Figure size 432x288 with 2 Axes>"
      ]
     },
     "metadata": {
      "needs_background": "light"
     },
     "output_type": "display_data"
    }
   ],
   "source": [
    "numeric_col = ['T','Po','U','DD','Ff','RRR']\n",
    "\n",
    "corr_matrix = df.loc[:,numeric_col].corr()\n",
    "print(corr_matrix)\n",
    "\n",
    "sns.heatmap(corr_matrix, annot=True)"
   ]
  },
  {
   "cell_type": "code",
   "execution_count": 13,
   "id": "80d89046",
   "metadata": {},
   "outputs": [
    {
     "data": {
      "text/html": [
       "<div>\n",
       "<style scoped>\n",
       "    .dataframe tbody tr th:only-of-type {\n",
       "        vertical-align: middle;\n",
       "    }\n",
       "\n",
       "    .dataframe tbody tr th {\n",
       "        vertical-align: top;\n",
       "    }\n",
       "\n",
       "    .dataframe thead th {\n",
       "        text-align: right;\n",
       "    }\n",
       "</style>\n",
       "<table border=\"1\" class=\"dataframe\">\n",
       "  <thead>\n",
       "    <tr style=\"text-align: right;\">\n",
       "      <th></th>\n",
       "      <th>count</th>\n",
       "      <th>mean</th>\n",
       "      <th>std</th>\n",
       "      <th>min</th>\n",
       "      <th>25%</th>\n",
       "      <th>50%</th>\n",
       "      <th>75%</th>\n",
       "      <th>max</th>\n",
       "    </tr>\n",
       "  </thead>\n",
       "  <tbody>\n",
       "    <tr>\n",
       "      <th>T</th>\n",
       "      <td>248.0</td>\n",
       "      <td>1.931452</td>\n",
       "      <td>5.052684</td>\n",
       "      <td>-9.3</td>\n",
       "      <td>-1.500</td>\n",
       "      <td>0.8</td>\n",
       "      <td>5.225</td>\n",
       "      <td>18.1</td>\n",
       "    </tr>\n",
       "    <tr>\n",
       "      <th>Po</th>\n",
       "      <td>248.0</td>\n",
       "      <td>741.657258</td>\n",
       "      <td>4.007355</td>\n",
       "      <td>727.8</td>\n",
       "      <td>739.075</td>\n",
       "      <td>742.0</td>\n",
       "      <td>744.700</td>\n",
       "      <td>749.1</td>\n",
       "    </tr>\n",
       "    <tr>\n",
       "      <th>U</th>\n",
       "      <td>248.0</td>\n",
       "      <td>79.508065</td>\n",
       "      <td>16.904589</td>\n",
       "      <td>31.0</td>\n",
       "      <td>70.000</td>\n",
       "      <td>84.0</td>\n",
       "      <td>93.000</td>\n",
       "      <td>99.0</td>\n",
       "    </tr>\n",
       "    <tr>\n",
       "      <th>DD</th>\n",
       "      <td>248.0</td>\n",
       "      <td>8.681452</td>\n",
       "      <td>5.180091</td>\n",
       "      <td>0.0</td>\n",
       "      <td>4.000</td>\n",
       "      <td>8.0</td>\n",
       "      <td>14.000</td>\n",
       "      <td>16.0</td>\n",
       "    </tr>\n",
       "    <tr>\n",
       "      <th>Ff</th>\n",
       "      <td>248.0</td>\n",
       "      <td>2.092742</td>\n",
       "      <td>1.421163</td>\n",
       "      <td>0.0</td>\n",
       "      <td>1.000</td>\n",
       "      <td>2.0</td>\n",
       "      <td>3.000</td>\n",
       "      <td>7.0</td>\n",
       "    </tr>\n",
       "    <tr>\n",
       "      <th>RRR</th>\n",
       "      <td>248.0</td>\n",
       "      <td>0.288306</td>\n",
       "      <td>1.150703</td>\n",
       "      <td>0.0</td>\n",
       "      <td>0.000</td>\n",
       "      <td>0.0</td>\n",
       "      <td>0.000</td>\n",
       "      <td>9.0</td>\n",
       "    </tr>\n",
       "  </tbody>\n",
       "</table>\n",
       "</div>"
      ],
      "text/plain": [
       "     count        mean        std    min      25%    50%      75%    max\n",
       "T    248.0    1.931452   5.052684   -9.3   -1.500    0.8    5.225   18.1\n",
       "Po   248.0  741.657258   4.007355  727.8  739.075  742.0  744.700  749.1\n",
       "U    248.0   79.508065  16.904589   31.0   70.000   84.0   93.000   99.0\n",
       "DD   248.0    8.681452   5.180091    0.0    4.000    8.0   14.000   16.0\n",
       "Ff   248.0    2.092742   1.421163    0.0    1.000    2.0    3.000    7.0\n",
       "RRR  248.0    0.288306   1.150703    0.0    0.000    0.0    0.000    9.0"
      ]
     },
     "execution_count": 13,
     "metadata": {},
     "output_type": "execute_result"
    }
   ],
   "source": [
    "df.describe().T"
   ]
  },
  {
   "cell_type": "code",
   "execution_count": 14,
   "id": "b45bed46",
   "metadata": {},
   "outputs": [
    {
     "data": {
      "text/plain": [
       "array([[<AxesSubplot:title={'center':'T'}>,\n",
       "        <AxesSubplot:title={'center':'Po'}>],\n",
       "       [<AxesSubplot:title={'center':'U'}>,\n",
       "        <AxesSubplot:title={'center':'DD'}>],\n",
       "       [<AxesSubplot:title={'center':'Ff'}>,\n",
       "        <AxesSubplot:title={'center':'RRR'}>]], dtype=object)"
      ]
     },
     "execution_count": 14,
     "metadata": {},
     "output_type": "execute_result"
    },
    {
     "data": {
      "image/png": "[encoded data removed]",
      "text/plain": [
       "<Figure size 1080x720 with 6 Axes>"
      ]
     },
     "metadata": {
      "needs_background": "light"
     },
     "output_type": "display_data"
    }
   ],
   "source": [
    "df[ ['T', 'Po', 'U', 'DD', 'Ff', 'RRR'] ].hist(figsize=(15,10))"
   ]
  },
  {
   "cell_type": "code",
   "execution_count": 5,
   "id": "b7a9f61b",
   "metadata": {},
   "outputs": [],
   "source": [
    "le = LabelEncoder()\n",
    "df['Po'] = le.fit_transform(df['Po'])\n",
    "df['U'] = le.fit_transform(df['U'])\n",
    "df.to_csv('weather.csv',index=False)\n",
    "\n",
    "x_train, x_test, y_train, y_test = train_test_split(df[['T', 'Po', 'U', 'DD', 'RRR']], df['Ff'], test_size=0.3, random_state=1)"
   ]
  },
  {
   "cell_type": "code",
   "execution_count": 6,
   "id": "e2538f2e",
   "metadata": {},
   "outputs": [
    {
     "data": {
      "text/html": [
       "<div>\n",
       "<style scoped>\n",
       "    .dataframe tbody tr th:only-of-type {\n",
       "        vertical-align: middle;\n",
       "    }\n",
       "\n",
       "    .dataframe tbody tr th {\n",
       "        vertical-align: top;\n",
       "    }\n",
       "\n",
       "    .dataframe thead th {\n",
       "        text-align: right;\n",
       "    }\n",
       "</style>\n",
       "<table border=\"1\" class=\"dataframe\">\n",
       "  <thead>\n",
       "    <tr style=\"text-align: right;\">\n",
       "      <th></th>\n",
       "      <th>Time</th>\n",
       "      <th>T</th>\n",
       "      <th>Po</th>\n",
       "      <th>U</th>\n",
       "      <th>DD</th>\n",
       "      <th>Ff</th>\n",
       "      <th>RRR</th>\n",
       "    </tr>\n",
       "  </thead>\n",
       "  <tbody>\n",
       "    <tr>\n",
       "      <th>0</th>\n",
       "      <td>31.01.2022 21:00</td>\n",
       "      <td>1.0</td>\n",
       "      <td>40</td>\n",
       "      <td>52</td>\n",
       "      <td>1.028805</td>\n",
       "      <td>1</td>\n",
       "      <td>0.0</td>\n",
       "    </tr>\n",
       "    <tr>\n",
       "      <th>1</th>\n",
       "      <td>31.01.2022 18:00</td>\n",
       "      <td>3.5</td>\n",
       "      <td>32</td>\n",
       "      <td>44</td>\n",
       "      <td>0.835368</td>\n",
       "      <td>4</td>\n",
       "      <td>0.0</td>\n",
       "    </tr>\n",
       "    <tr>\n",
       "      <th>2</th>\n",
       "      <td>31.01.2022 15:00</td>\n",
       "      <td>6.5</td>\n",
       "      <td>22</td>\n",
       "      <td>26</td>\n",
       "      <td>-0.712130</td>\n",
       "      <td>4</td>\n",
       "      <td>0.0</td>\n",
       "    </tr>\n",
       "    <tr>\n",
       "      <th>3</th>\n",
       "      <td>31.01.2022 12:00</td>\n",
       "      <td>6.6</td>\n",
       "      <td>24</td>\n",
       "      <td>28</td>\n",
       "      <td>0.835368</td>\n",
       "      <td>4</td>\n",
       "      <td>0.0</td>\n",
       "    </tr>\n",
       "    <tr>\n",
       "      <th>4</th>\n",
       "      <td>31.01.2022 09:00</td>\n",
       "      <td>2.0</td>\n",
       "      <td>24</td>\n",
       "      <td>44</td>\n",
       "      <td>-1.679316</td>\n",
       "      <td>1</td>\n",
       "      <td>0.0</td>\n",
       "    </tr>\n",
       "    <tr>\n",
       "      <th>5</th>\n",
       "      <td>31.01.2022 06:00</td>\n",
       "      <td>-1.2</td>\n",
       "      <td>21</td>\n",
       "      <td>45</td>\n",
       "      <td>-0.131818</td>\n",
       "      <td>1</td>\n",
       "      <td>0.0</td>\n",
       "    </tr>\n",
       "    <tr>\n",
       "      <th>6</th>\n",
       "      <td>31.01.2022 03:00</td>\n",
       "      <td>0.1</td>\n",
       "      <td>23</td>\n",
       "      <td>40</td>\n",
       "      <td>0.641931</td>\n",
       "      <td>2</td>\n",
       "      <td>0.0</td>\n",
       "    </tr>\n",
       "    <tr>\n",
       "      <th>7</th>\n",
       "      <td>31.01.2022 00:00</td>\n",
       "      <td>0.0</td>\n",
       "      <td>28</td>\n",
       "      <td>42</td>\n",
       "      <td>1.028805</td>\n",
       "      <td>2</td>\n",
       "      <td>0.0</td>\n",
       "    </tr>\n",
       "    <tr>\n",
       "      <th>8</th>\n",
       "      <td>30.01.2022 21:00</td>\n",
       "      <td>-0.5</td>\n",
       "      <td>35</td>\n",
       "      <td>54</td>\n",
       "      <td>0.641931</td>\n",
       "      <td>1</td>\n",
       "      <td>0.0</td>\n",
       "    </tr>\n",
       "    <tr>\n",
       "      <th>9</th>\n",
       "      <td>30.01.2022 18:00</td>\n",
       "      <td>1.5</td>\n",
       "      <td>43</td>\n",
       "      <td>50</td>\n",
       "      <td>-0.131818</td>\n",
       "      <td>1</td>\n",
       "      <td>0.0</td>\n",
       "    </tr>\n",
       "  </tbody>\n",
       "</table>\n",
       "</div>"
      ],
      "text/plain": [
       "               Time    T  Po   U        DD  Ff  RRR\n",
       "0  31.01.2022 21:00  1.0  40  52  1.028805   1  0.0\n",
       "1  31.01.2022 18:00  3.5  32  44  0.835368   4  0.0\n",
       "2  31.01.2022 15:00  6.5  22  26 -0.712130   4  0.0\n",
       "3  31.01.2022 12:00  6.6  24  28  0.835368   4  0.0\n",
       "4  31.01.2022 09:00  2.0  24  44 -1.679316   1  0.0\n",
       "5  31.01.2022 06:00 -1.2  21  45 -0.131818   1  0.0\n",
       "6  31.01.2022 03:00  0.1  23  40  0.641931   2  0.0\n",
       "7  31.01.2022 00:00  0.0  28  42  1.028805   2  0.0\n",
       "8  30.01.2022 21:00 -0.5  35  54  0.641931   1  0.0\n",
       "9  30.01.2022 18:00  1.5  43  50 -0.131818   1  0.0"
      ]
     },
     "execution_count": 6,
     "metadata": {},
     "output_type": "execute_result"
    }
   ],
   "source": [
    "std = StandardScaler()\n",
    "df['DD'] = pd.DataFrame(std.fit_transform(df[['DD']]))\n",
    "df.head(10)"
   ]
  },
  {
   "cell_type": "code",
   "execution_count": 7,
   "id": "28423dfe",
   "metadata": {},
   "outputs": [
    {
     "name": "stdout",
     "output_type": "stream",
     "text": [
      "0.36480709962737967\n",
      "[-0.00157034 -0.01081055 -0.03773017 -0.05932641  0.11836545]\n",
      "4.717056474819241\n"
     ]
    },
    {
     "data": {
      "image/png": "[encoded data removed]",
      "text/plain": [
       "<Figure size 432x288 with 1 Axes>"
      ]
     },
     "metadata": {
      "needs_background": "light"
     },
     "output_type": "display_data"
    }
   ],
   "source": [
    "reg = LinearRegression().fit(x_train, y_train)\n",
    "print(reg.score(x_test, y_test))\n",
    "print(reg.coef_)\n",
    "print(reg.intercept_)\n",
    "\n",
    "reg.predict(x_test)\n",
    "\n",
    "fig, ax = plt.subplots()\n",
    "\n",
    "plt.rcParams['figure.figsize'] = [5, 3]\n",
    "\n",
    "ax.plot(range(1,len(y_test)+1), y_test, 'r-', range(1,len(y_test)+1), reg.predict(x_test), 'g-')\n",
    "\n",
    "plt.show()"
   ]
  },
  {
   "cell_type": "code",
   "execution_count": 8,
   "id": "a8469f58",
   "metadata": {},
   "outputs": [
    {
     "name": "stdout",
     "output_type": "stream",
     "text": [
      "{'max_depth': 3, 'min_samples_leaf': 11}\n",
      "0.348792746935604\n",
      "0.22848614012724502\n"
     ]
    },
    {
     "data": {
      "image/png": "[encoded data removed]",
      "text/plain": [
       "<Figure size 360x216 with 1 Axes>"
      ]
     },
     "metadata": {
      "needs_background": "light"
     },
     "output_type": "display_data"
    }
   ],
   "source": [
    "params = {'max_depth' : np.arange(1,15,1), 'min_samples_leaf' : range(1,15,1)} # Словарь с гиперпараметрами\n",
    "clf = tree.DecisionTreeRegressor(random_state=1)\n",
    "grid_clf = GridSearchCV(clf, params, cv=5, n_jobs=-1) #cv - кроссвалидация\n",
    "\n",
    "grid_clf.fit(x_train, y_train)\n",
    "\n",
    "print(grid_clf.best_params_)\n",
    "best_cls = grid_clf.best_estimator_\n",
    "\n",
    "y_pred = best_cls.predict(x_test)\n",
    "from sklearn.metrics import mean_absolute_percentage_error\n",
    "print(mean_absolute_percentage_error(y_test, y_pred))\n",
    "print(grid_clf.best_score_)\n",
    "\n",
    "fig, ax = plt.subplots()\n",
    "plt.rcParams['figure.figsize'] = [5, 3]\n",
    "ax.plot(range(1,len(y_test)+1), y_test, 'r-', range(1,len(y_test)+1), best_cls.predict(x_test), 'g-')\n",
    "\n",
    "plt.show()"
   ]
  },
  {
   "cell_type": "code",
   "execution_count": 10,
   "id": "8614e88b",
   "metadata": {},
   "outputs": [
    {
     "name": "stdout",
     "output_type": "stream",
     "text": [
      "[ 2.00829472  1.18488457  3.4646764   4.39991696  1.5312138   7.11493617\n",
      "  1.88308874  1.53424384  2.50109376  2.16247919  2.06576377  2.21192825\n",
      "  1.69675138  0.32483612  2.66019438  2.43771829  2.0286882   2.28782163\n",
      "  2.06864711  0.03648093  5.79830304  0.70364805  1.48977875  1.54289401\n",
      "  1.79824544  1.86907347  0.91140341  2.0974206  -0.34972489  1.10180569\n",
      "  2.08242297  1.74296264  1.83173202  1.80225295  2.28452447  2.96163987\n",
      "  2.12999842  1.05070349  3.6844549   1.58782745  2.18586929  4.87817863\n",
      "  2.08250439  1.70613585  1.06470476  1.85978754  1.87357279  1.93095268\n",
      "  0.359112    2.22398678  5.9094856   1.21871466  1.46990511  1.92128797\n",
      "  1.40231359  1.8924735   1.17280254  1.31222534  1.50084442  3.46070043\n",
      "  2.49328477  1.63957467  2.27269211  2.49835558  1.33101571  2.12768606\n",
      "  2.09349938  2.34251359  1.38443213  2.12437822  0.78518673  6.22947566\n",
      "  2.03543942  2.65297015  2.04808147]\n",
      "0.3318357312106518\n"
     ]
    }
   ],
   "source": [
    "from sklearn.neural_network import MLPRegressor\n",
    "regr = MLPRegressor(random_state=1, max_iter=500, solver='lbfgs').fit(x_train, y_train)\n",
    "print(regr.predict(x_test))\n",
    "print(regr.score(x_test, y_test))"
   ]
  },
  {
   "cell_type": "code",
   "execution_count": 11,
   "id": "adf4ea03",
   "metadata": {},
   "outputs": [
    {
     "data": {
      "image/png": "[encoded data removed]",
      "text/plain": [
       "<Figure size 360x216 with 1 Axes>"
      ]
     },
     "metadata": {
      "needs_background": "light"
     },
     "output_type": "display_data"
    }
   ],
   "source": [
    "fig, ax = plt.subplots() #8 5\n",
    "plt.rcParams['figure.figsize'] = [5, 3]\n",
    "ax.plot(range(1,len(y_test)+1), y_test, 'r-', range(1,len(y_test)+1), regr.predict(x_test), 'g-')\n",
    "\n",
    "plt.show()"
   ]
  },
  {
   "cell_type": "code",
   "execution_count": 92,
   "id": "b2bbb72b",
   "metadata": {},
   "outputs": [
    {
     "ename": "ValueError",
     "evalue": "Error when checking input: expected dense_114_input to have shape (12,) but got array with shape (5,)",
     "output_type": "error",
     "traceback": [
      "\u001b[0;31m---------------------------------------------------------------------------\u001b[0m",
      "\u001b[0;31mValueError\u001b[0m                                Traceback (most recent call last)",
      "\u001b[0;32m<ipython-input-92-b4396908bee7>\u001b[0m in \u001b[0;36m<module>\u001b[0;34m\u001b[0m\n\u001b[1;32m     37\u001b[0m )\n\u001b[1;32m     38\u001b[0m \u001b[0;34m\u001b[0m\u001b[0m\n\u001b[0;32m---> 39\u001b[0;31m model.fit(\n\u001b[0m\u001b[1;32m     40\u001b[0m     \u001b[0mx_train\u001b[0m\u001b[0;34m,\u001b[0m\u001b[0;34m\u001b[0m\u001b[0;34m\u001b[0m\u001b[0m\n\u001b[1;32m     41\u001b[0m     \u001b[0my_train\u001b[0m\u001b[0;34m,\u001b[0m\u001b[0;34m\u001b[0m\u001b[0;34m\u001b[0m\u001b[0m\n",
      "\u001b[0;32m~/.local/lib/python3.8/site-packages/keras/engine/training_v1.py\u001b[0m in \u001b[0;36mfit\u001b[0;34m(self, x, y, batch_size, epochs, verbose, callbacks, validation_split, validation_data, shuffle, class_weight, sample_weight, initial_epoch, steps_per_epoch, validation_steps, validation_freq, max_queue_size, workers, use_multiprocessing, **kwargs)\u001b[0m\n\u001b[1;32m    775\u001b[0m \u001b[0;34m\u001b[0m\u001b[0m\n\u001b[1;32m    776\u001b[0m     \u001b[0mfunc\u001b[0m \u001b[0;34m=\u001b[0m \u001b[0mself\u001b[0m\u001b[0;34m.\u001b[0m\u001b[0m_select_training_loop\u001b[0m\u001b[0;34m(\u001b[0m\u001b[0mx\u001b[0m\u001b[0;34m)\u001b[0m\u001b[0;34m\u001b[0m\u001b[0;34m\u001b[0m\u001b[0m\n\u001b[0;32m--> 777\u001b[0;31m     return func.fit(\n\u001b[0m\u001b[1;32m    778\u001b[0m         \u001b[0mself\u001b[0m\u001b[0;34m,\u001b[0m\u001b[0;34m\u001b[0m\u001b[0;34m\u001b[0m\u001b[0m\n\u001b[1;32m    779\u001b[0m         \u001b[0mx\u001b[0m\u001b[0;34m=\u001b[0m\u001b[0mx\u001b[0m\u001b[0;34m,\u001b[0m\u001b[0;34m\u001b[0m\u001b[0;34m\u001b[0m\u001b[0m\n",
      "\u001b[0;32m~/.local/lib/python3.8/site-packages/keras/engine/training_arrays_v1.py\u001b[0m in \u001b[0;36mfit\u001b[0;34m(self, model, x, y, batch_size, epochs, verbose, callbacks, validation_split, validation_data, shuffle, class_weight, sample_weight, initial_epoch, steps_per_epoch, validation_steps, validation_freq, **kwargs)\u001b[0m\n\u001b[1;32m    614\u001b[0m                                                      steps_per_epoch, x)\n\u001b[1;32m    615\u001b[0m \u001b[0;34m\u001b[0m\u001b[0m\n\u001b[0;32m--> 616\u001b[0;31m     x, y, sample_weights = model._standardize_user_data(\n\u001b[0m\u001b[1;32m    617\u001b[0m         \u001b[0mx\u001b[0m\u001b[0;34m,\u001b[0m\u001b[0;34m\u001b[0m\u001b[0;34m\u001b[0m\u001b[0m\n\u001b[1;32m    618\u001b[0m         \u001b[0my\u001b[0m\u001b[0;34m,\u001b[0m\u001b[0;34m\u001b[0m\u001b[0;34m\u001b[0m\u001b[0m\n",
      "\u001b[0;32m~/.local/lib/python3.8/site-packages/keras/engine/training_v1.py\u001b[0m in \u001b[0;36m_standardize_user_data\u001b[0;34m(self, x, y, sample_weight, class_weight, batch_size, check_steps, steps_name, steps, validation_split, shuffle, extract_tensors_from_dataset)\u001b[0m\n\u001b[1;32m   2333\u001b[0m       \u001b[0;32mreturn\u001b[0m \u001b[0;34m[\u001b[0m\u001b[0;34m]\u001b[0m\u001b[0;34m,\u001b[0m \u001b[0;34m[\u001b[0m\u001b[0;34m]\u001b[0m\u001b[0;34m,\u001b[0m \u001b[0;32mNone\u001b[0m\u001b[0;34m\u001b[0m\u001b[0;34m\u001b[0m\u001b[0m\n\u001b[1;32m   2334\u001b[0m \u001b[0;34m\u001b[0m\u001b[0m\n\u001b[0;32m-> 2335\u001b[0;31m     return self._standardize_tensors(\n\u001b[0m\u001b[1;32m   2336\u001b[0m         \u001b[0mx\u001b[0m\u001b[0;34m,\u001b[0m \u001b[0my\u001b[0m\u001b[0;34m,\u001b[0m \u001b[0msample_weight\u001b[0m\u001b[0;34m,\u001b[0m\u001b[0;34m\u001b[0m\u001b[0;34m\u001b[0m\u001b[0m\n\u001b[1;32m   2337\u001b[0m         \u001b[0mrun_eagerly\u001b[0m\u001b[0;34m=\u001b[0m\u001b[0mrun_eagerly\u001b[0m\u001b[0;34m,\u001b[0m\u001b[0;34m\u001b[0m\u001b[0;34m\u001b[0m\u001b[0m\n",
      "\u001b[0;32m~/.local/lib/python3.8/site-packages/keras/engine/training_v1.py\u001b[0m in \u001b[0;36m_standardize_tensors\u001b[0;34m(self, x, y, sample_weight, run_eagerly, dict_inputs, is_dataset, class_weight, batch_size)\u001b[0m\n\u001b[1;32m   2361\u001b[0m     \u001b[0;32mif\u001b[0m \u001b[0;32mnot\u001b[0m \u001b[0misinstance\u001b[0m\u001b[0;34m(\u001b[0m\u001b[0mx\u001b[0m\u001b[0;34m,\u001b[0m \u001b[0;34m(\u001b[0m\u001b[0mtf\u001b[0m\u001b[0;34m.\u001b[0m\u001b[0mcompat\u001b[0m\u001b[0;34m.\u001b[0m\u001b[0mv1\u001b[0m\u001b[0;34m.\u001b[0m\u001b[0mdata\u001b[0m\u001b[0;34m.\u001b[0m\u001b[0mDataset\u001b[0m\u001b[0;34m,\u001b[0m \u001b[0mtf\u001b[0m\u001b[0;34m.\u001b[0m\u001b[0mdata\u001b[0m\u001b[0;34m.\u001b[0m\u001b[0mDataset\u001b[0m\u001b[0;34m)\u001b[0m\u001b[0;34m)\u001b[0m\u001b[0;34m:\u001b[0m\u001b[0;34m\u001b[0m\u001b[0;34m\u001b[0m\u001b[0m\n\u001b[1;32m   2362\u001b[0m       \u001b[0;31m# TODO(fchollet): run static checks with dataset output shape(s).\u001b[0m\u001b[0;34m\u001b[0m\u001b[0;34m\u001b[0m\u001b[0;34m\u001b[0m\u001b[0m\n\u001b[0;32m-> 2363\u001b[0;31m       x = training_utils_v1.standardize_input_data(\n\u001b[0m\u001b[1;32m   2364\u001b[0m           \u001b[0mx\u001b[0m\u001b[0;34m,\u001b[0m\u001b[0;34m\u001b[0m\u001b[0;34m\u001b[0m\u001b[0m\n\u001b[1;32m   2365\u001b[0m           \u001b[0mfeed_input_names\u001b[0m\u001b[0;34m,\u001b[0m\u001b[0;34m\u001b[0m\u001b[0;34m\u001b[0m\u001b[0m\n",
      "\u001b[0;32m~/.local/lib/python3.8/site-packages/keras/engine/training_utils_v1.py\u001b[0m in \u001b[0;36mstandardize_input_data\u001b[0;34m(data, names, shapes, check_batch_axis, exception_prefix)\u001b[0m\n\u001b[1;32m    640\u001b[0m         \u001b[0;32mfor\u001b[0m \u001b[0mdim\u001b[0m\u001b[0;34m,\u001b[0m \u001b[0mref_dim\u001b[0m \u001b[0;32min\u001b[0m \u001b[0mzip\u001b[0m\u001b[0;34m(\u001b[0m\u001b[0mdata_shape\u001b[0m\u001b[0;34m,\u001b[0m \u001b[0mshape\u001b[0m\u001b[0;34m)\u001b[0m\u001b[0;34m:\u001b[0m\u001b[0;34m\u001b[0m\u001b[0;34m\u001b[0m\u001b[0m\n\u001b[1;32m    641\u001b[0m           \u001b[0;32mif\u001b[0m \u001b[0mref_dim\u001b[0m \u001b[0;34m!=\u001b[0m \u001b[0mdim\u001b[0m \u001b[0;32mand\u001b[0m \u001b[0mref_dim\u001b[0m \u001b[0;32mis\u001b[0m \u001b[0;32mnot\u001b[0m \u001b[0;32mNone\u001b[0m \u001b[0;32mand\u001b[0m \u001b[0mdim\u001b[0m \u001b[0;32mis\u001b[0m \u001b[0;32mnot\u001b[0m \u001b[0;32mNone\u001b[0m\u001b[0;34m:\u001b[0m\u001b[0;34m\u001b[0m\u001b[0;34m\u001b[0m\u001b[0m\n\u001b[0;32m--> 642\u001b[0;31m             raise ValueError('Error when checking ' + exception_prefix +\n\u001b[0m\u001b[1;32m    643\u001b[0m                              \u001b[0;34m': expected '\u001b[0m \u001b[0;34m+\u001b[0m \u001b[0mnames\u001b[0m\u001b[0;34m[\u001b[0m\u001b[0mi\u001b[0m\u001b[0;34m]\u001b[0m \u001b[0;34m+\u001b[0m \u001b[0;34m' to have shape '\u001b[0m \u001b[0;34m+\u001b[0m\u001b[0;34m\u001b[0m\u001b[0;34m\u001b[0m\u001b[0m\n\u001b[1;32m    644\u001b[0m                              \u001b[0mstr\u001b[0m\u001b[0;34m(\u001b[0m\u001b[0mshape\u001b[0m\u001b[0;34m)\u001b[0m \u001b[0;34m+\u001b[0m \u001b[0;34m' but got array with shape '\u001b[0m \u001b[0;34m+\u001b[0m\u001b[0;34m\u001b[0m\u001b[0;34m\u001b[0m\u001b[0m\n",
      "\u001b[0;31mValueError\u001b[0m: Error when checking input: expected dense_114_input to have shape (12,) but got array with shape (5,)"
     ]
    }
   ],
   "source": [
    "import tensorflow as tf\n",
    "from tensorflow import keras\n",
    "from tensorflow.keras import layers\n",
    "\n",
    "\n",
    "# data iformation\n",
    "input_dim = 12 # number of input features\n",
    "number_of_classes = 3 # number of classes\n",
    "ml_task = \"multiclass_classification\" # task that we are going to solve\n",
    "# initial hyperparameters\n",
    "dense_1_size = 5\n",
    "dense_2_size = 16\n",
    "learning_rate = 0.05\n",
    "\n",
    "# define model architecture\n",
    "model = keras.Sequential()\n",
    "model.add(layers.Dense(dense_1_size, activation=\"relu\", input_dim=input_dim))\n",
    "model.add(layers.Dense(dense_2_size, activation=\"relu\"))\n",
    "model.add(layers.Dense(1))\n",
    "\n",
    "# compile the model\n",
    "opt = keras.optimizers.Adam(learning_rate=learning_rate)\n",
    "model.compile(optimizer=opt, loss=\"mean_squared_error\")\n",
    "    \n",
    "# X and y are training data\n",
    "batch_size = min(200, x_train.shape[0])\n",
    "epochs = 500\n",
    "      \n",
    "# set callbacks\n",
    "es = tf.keras.callbacks.EarlyStopping(monitor=\"val_loss\", mode=\"min\", verbose=0, patience=10)\n",
    "mc = tf.keras.callbacks.ModelCheckpoint(\n",
    "    \"best_model.h5\",\n",
    "    monitor=\"val_loss\",\n",
    "    mode=\"min\",\n",
    "    verbose=0,\n",
    "    save_best_only=True,\n",
    ")\n",
    "\n",
    "model.fit(\n",
    "    x_train,\n",
    "    y_train,\n",
    "    validation_data=(x_test, y_test),\n",
    "    batch_size=batch_size,\n",
    "    epochs=500,\n",
    "    verbose=False,\n",
    "    callbacks=[es, mc],\n",
    ")"
   ]
  },
  {
   "cell_type": "code",
   "execution_count": 33,
   "id": "fe21019a",
   "metadata": {},
   "outputs": [
    {
     "ename": "NameError",
     "evalue": "name 'admission_prediction' is not defined",
     "output_type": "error",
     "traceback": [
      "\u001b[0;31m---------------------------------------------------------------------------\u001b[0m",
      "\u001b[0;31mNameError\u001b[0m                                 Traceback (most recent call last)",
      "\u001b[0;32m<ipython-input-33-ae624b662802>\u001b[0m in \u001b[0;36m<module>\u001b[0;34m\u001b[0m\n\u001b[1;32m     11\u001b[0m \u001b[0;32mfrom\u001b[0m \u001b[0mmpl_toolkits\u001b[0m\u001b[0;34m.\u001b[0m\u001b[0mmplot3d\u001b[0m \u001b[0;32mimport\u001b[0m \u001b[0mAxes3D\u001b[0m\u001b[0;34m\u001b[0m\u001b[0;34m\u001b[0m\u001b[0m\n\u001b[1;32m     12\u001b[0m \u001b[0;34m\u001b[0m\u001b[0m\n\u001b[0;32m---> 13\u001b[0;31m \u001b[0mallscatter\u001b[0m \u001b[0;34m=\u001b[0m \u001b[0msns\u001b[0m\u001b[0;34m.\u001b[0m\u001b[0mpairplot\u001b[0m\u001b[0;34m(\u001b[0m\u001b[0madmission_prediction\u001b[0m\u001b[0;34m)\u001b[0m\u001b[0;34m\u001b[0m\u001b[0;34m\u001b[0m\u001b[0m\n\u001b[0m\u001b[1;32m     14\u001b[0m \u001b[0;34m\u001b[0m\u001b[0m\n\u001b[1;32m     15\u001b[0m \u001b[0mfig\u001b[0m \u001b[0;34m=\u001b[0m \u001b[0mplt\u001b[0m\u001b[0;34m.\u001b[0m\u001b[0mfigure\u001b[0m\u001b[0;34m(\u001b[0m\u001b[0mfigsize\u001b[0m\u001b[0;34m=\u001b[0m\u001b[0;34m[\u001b[0m\u001b[0;36m15\u001b[0m\u001b[0;34m,\u001b[0m\u001b[0;36m10\u001b[0m\u001b[0;34m]\u001b[0m\u001b[0;34m)\u001b[0m\u001b[0;34m\u001b[0m\u001b[0;34m\u001b[0m\u001b[0m\n",
      "\u001b[0;31mNameError\u001b[0m: name 'admission_prediction' is not defined"
     ]
    }
   ],
   "source": [
    "#matplotlib inline\n",
    "import numpy as np # linear algebra\n",
    "import seaborn as sns\n",
    "sns.set(style='whitegrid')\n",
    "import pandas as pd # data processing, CSV file I/O (e.g. pd.read_csv)\n",
    "import matplotlib.pyplot as plt\n",
    "import tensorflow.compat.v1 as tf\n",
    "tf.disable_v2_behavior()\n",
    "import sklearn\n",
    "from sklearn.model_selection import train_test_split\n",
    "from mpl_toolkits.mplot3d import Axes3D\n",
    "\n",
    "allscatter = sns.pairplot(admission_prediction)\n",
    "\n",
    "fig = plt.figure(figsize=[15,10])\n",
    "ax = fig.add_subplot(111, projection='3d')\n",
    "ax.scatter(admission_prediction['GRE_Score'], admission_prediction['TOEFL_Score'], admission_prediction['Chance_of_Admit'], c='r', marker='o', alpha=1)\n",
    "ax.set_xlabel('GRE_Score')\n",
    "ax.set_ylabel('TOEFL_Score')\n",
    "ax.set_zlabel('Chance_of_Admit')\n",
    "plt.show()\n",
    "\n",
    "corr = admission_prediction2.corr()\n",
    "fig = plt.figure(figsize=[15,10])\n",
    "sns.heatmap(corr)\n",
    "\n",
    "admission_prediction.GRE_Score = admission_prediction.GRE_Score.astype(float)\n",
    "admission_prediction.TOEFL_Score = admission_prediction.TOEFL_Score.astype(float)\n",
    "admission_prediction.University_Rating = admission_prediction.University_Rating.astype(float)\n",
    "\n",
    "x = admission_prediction.GRE_Score.tolist()\n",
    "y = admission_prediction.Chance_of_Admit.tolist()\n",
    "\n",
    "def linearregression():\n",
    "  x1 = tf.placeholder(tf.float32, shape=(None, ), name='x')\n",
    "  y1 = tf.placeholder(tf.float32, shape=(None, ), name='y')\n",
    "\n",
    "  with tf.variable_scope('lreg') as scope:\n",
    "    w = tf.Variable(np.random.normal(), name='W')\n",
    "    b = tf.Variable(np.random.normal(), name='b')\n",
    "    y_pred = tf.add(tf.multiply(w, x1), b)\n",
    "    loss = tf.reduce_mean(tf.square(y_pred - y1))\n",
    "\n",
    "  return x1, y1, y_pred, loss\n",
    "\n",
    "def run():\n",
    "  x1, y1, y_pred, loss = linearregression()\n",
    "\n",
    "  optimizer = tf.train.GradientDescentOptimizer(0.000005)\n",
    "  train_op = optimizer.minimize(loss)\n",
    "\n",
    "  with tf.Session() as session:\n",
    "    session.run(tf.global_variables_initializer())\n",
    "    feed_dict = {x1: x, y1: y}\n",
    "\n",
    "    for i in range(1700):\n",
    "      session.run(train_op, feed_dict)\n",
    "      print(i, \"loss:\", loss.eval(feed_dict))\n",
    "      \n",
    "    y_pred_batch = session.run(y_pred, {x1 : x})\n",
    "    plt.scatter(x, y)\n",
    "    plt.plot(x, y_pred_batch, color='red')\n",
    "    \n",
    "run()"
   ]
  },
  {
   "cell_type": "code",
   "execution_count": 4,
   "id": "ab42037e",
   "metadata": {},
   "outputs": [
    {
     "data": {
      "text/plain": [
       "array([[-1.12541308,  1.96429418],\n",
       "       [-1.15329466, -0.50068741],\n",
       "       [ 0.29529406, -0.22809346],\n",
       "       [ 0.57385917, -0.42335076],\n",
       "       [ 1.40955451, -0.81216255]])"
      ]
     },
     "execution_count": 4,
     "metadata": {},
     "output_type": "execute_result"
    }
   ],
   "source": [
    "# Загрузить библиотеки\n",
    "from sklearn import preprocessing\n",
    "import numpy as np\n",
    "import pandas as pd\n",
    "\n",
    "# Создать признак\n",
    "features = np.array([[-100.1, 3240.1],\n",
    "                     [-200.2, -234.1],\n",
    "                     [5000.5, 150.1],\n",
    "                     [6000.6, -125.1],\n",
    "                     [9000.9, -673.1]])\n",
    "\n",
    "# Создать шкалировщик\n",
    "scaler = preprocessing.StandardScaler()\n",
    "\n",
    "# Преобразовать признак\n",
    "features_standardized = scaler.fit_transform(features)\n",
    "\n",
    "# Показать признак\n",
    "features_standardized\n",
    "\n",
    "\n"
   ]
  },
  {
   "cell_type": "code",
   "execution_count": 6,
   "id": "eef40ddf",
   "metadata": {},
   "outputs": [],
   "source": [
    "from sklearn import preprocessing\n",
    "from keras import models\n",
    "from keras import layers\n",
    "\n",
    "# Инициализировать нейронную сеть\n",
    "network = models.Sequential()\n",
    "\n",
    "# Добавить полносвязный слой с активационной функцией ReLU\n",
    "network.add(layers.Dense(units=16, activation=\"relu\", input_shape=(10,)))\n",
    "\n",
    "# Добавить полносвязный слой с активационной функцией ReLU\n",
    "network.add(layers.Dense(units=16, activation=\"relu\"))\n",
    "\n",
    "# Добавить полносвязный слой с сигмоидальной активационной функцией\n",
    "network.add(layers.Dense(units=1, activation=\"sigmoid\"))\n",
    "\n",
    "# Скомпилировать нейронную сеть\n",
    "network.compile(\n",
    "loss=\"binary_crossentropy\", # Перекрестная энтропия\n",
    "optimizer=\"rmsprop\", # Распространение среднеквадратической ошибки\n",
    "metrics=[\"accuracy\"]) # Точностный показатель результативности\n"
   ]
  },
  {
   "cell_type": "code",
   "execution_count": 9,
   "id": "5bfdadfd",
   "metadata": {},
   "outputs": [
    {
     "data": {
      "image/png": "[encoded data removed]",
      "text/plain": [
       "<Figure size 432x288 with 1 Axes>"
      ]
     },
     "metadata": {
      "needs_background": "light"
     },
     "output_type": "display_data"
    }
   ],
   "source": [
    "# Загрузить библиотеки\n",
    "import numpy as np\n",
    "from keras.preprocessing.text import Tokenizer\n",
    "from keras import models\n",
    "from keras import layers\n",
    "from sklearn.datasets import make_regression\n",
    "from sklearn.model_selection import train_test_split\n",
    "from sklearn import preprocessing\n",
    "import matplotlib.pyplot as plt\n",
    "\n",
    "# Задать начальное значение для ГПСЧ\n",
    "np.random.seed(0)\n",
    "\n",
    "# Сгенерировать матрицу признаков и вектор целей\n",
    "features, target = make_regression(n_samples = 10000,\n",
    "                                   n_features = 3,\n",
    "                                   n_informative = 3,\n",
    "                                   n_targets = 1,\n",
    "                                   noise = 0.0,\n",
    "                                   random_state = 0)\n",
    "\n",
    "# Разделить данные на тренировочный и тестовый наборы\n",
    "features_train, features_test, target_train, target_test = train_test_split(\n",
    "features, target, test_size=0.33, random_state=0)\n",
    "\n",
    "# Инициализировать нейронную сеть\n",
    "network = models.Sequential()\n",
    "\n",
    "# Добавить полносвязный слой с активационной функцией ReLU\n",
    "network.add(layers.Dense(\n",
    "units=32,\n",
    "activation=\"relu\",\n",
    "input_shape=(features_train.shape[1],)))\n",
    "\n",
    "# Добавить полносвязный слой с активационной функцией ReLU\n",
    "network.add(layers.Dense(units=32, activation=\"relu\"))\n",
    "\n",
    "# Добавить полносвязный слой без активационной функции\n",
    "network.add(layers.Dense(units=1))\n",
    "\n",
    "# Скомпилировать нейронную\n",
    "network.compile(\n",
    "    loss=\"mse\", # Среднеквадратическая ошибка\n",
    "    optimizer=\"RMSprop\", # Оптимизационный алгоритм\n",
    "    metrics=[\"mse\"]) # Среднеквадратическая ошибка\n",
    "\n",
    "# Натренировать нейронную сеть\n",
    "history = network.fit(\n",
    "    features_train, # Признаки\n",
    "    target_train, # Вектор целей\n",
    "    epochs=10, # Количество эпох\n",
    "    verbose=0, # Вывода нет\n",
    "    batch_size=100, # Количество наблюдений на пакет\n",
    "    validation_data=(features_test, target_test)) # Тестовые данные\n",
    "\n",
    "# Получить истории потерь на тренировочных и тестовых данных\n",
    "training_loss = history.history[\"loss\"]\n",
    "test_loss = history.history[\"val_loss\"]\n",
    "\n",
    "# Создать счетчик количества эпох\n",
    "epoch_count = range(1, len(training_loss) + 1)\n",
    "\n",
    "# Визуализировать историю потери\n",
    "plt.plot(epoch_count, training_loss, \"r-\")\n",
    "plt.plot(epoch_count, test_loss, \"b-\")\n",
    "plt.legend([\"Потеря на тренировке\", \"Потеря на тестировании\"])\n",
    "plt.xlabel(\"Эпоха\")\n",
    "plt.ylabel(\"Потеря\")\n",
    "plt.show();"
   ]
  },
  {
   "cell_type": "code",
   "execution_count": null,
   "id": "f1bd4f71",
   "metadata": {},
   "outputs": [
    {
     "name": "stdout",
     "output_type": "stream",
     "text": [
      "Downloading data from https://storage.googleapis.com/tensorflow/tf-keras-datasets/imdb.npz\n",
      "17465344/17464789 [==============================] - 93s 5us/step\n",
      "17473536/17464789 [==============================] - 93s 5us/step\n"
     ]
    }
   ],
   "source": [
    "# Загрузить библиотеки\n",
    "import numpy as np\n",
    "from keras.datasets import imdb\n",
    "from keras.preprocessing.text import Tokenizer\n",
    "from keras import models\n",
    "from keras import layers\n",
    "\n",
    "# Задать начальное значение для ГПСЧ\n",
    "np.random.seed(0)\n",
    "\n",
    "# Задать желаемое количество признаков\n",
    "number_of_features = 10000\n",
    "\n",
    "# Загрузить данные и вектор целей из набора данных IMDB о кинофильмах\n",
    "(data_train, target_train), (data_test, target_test) = imdb.load_data(num_words=number_of_features)\n",
    "\n",
    "# Конвертировать данные IMDB о кинофильмах\n",
    "\n",
    "# в матрицу признаков в кодировке с одним активным состоянием\n",
    "tokenizer = Tokenizer(num_words=number_of_features)\n",
    "features_train = tokenizer.sequences_to_matrix(data_train, mode=\"binary\")\n",
    "features_test = tokenizer.sequences_to_matrix(data_test, mode=\"binary\")\n",
    "\n",
    "# Инициализировать нейронную сеть\n",
    "network = models.Sequential()\n",
    "\n",
    "# Добавить полносвязный слой с активационной функцией ReLU\n",
    "network.add(layers.Dense(\n",
    "    units=16,\n",
    "    activation=\"relu\",\n",
    "    input_shape=(number_of_features,)))\n",
    "\n",
    "# Добавить полносвязный слой с активационной функцией ReLU\n",
    "network.add(layers.Dense(units=16, activation=\"relu\"))\n",
    "\n",
    "# Добавить полносвязный слой с сигмоидальной активационной функцией\n",
    "network.add(layers.Dense(units=1, activation=\"sigmoid\"))\n",
    "\n",
    "# Скомпилировать нейронную сеть\n",
    "network.compile(\n",
    "    loss=\"binary_crossentropy\", # Перекрестная энтропия\n",
    "    optimizer=\"rmsprop\", # Распространение CKO\n",
    "    metrics=[\"accuracy\"]) # Точностный показатель результативности\n",
    "\n",
    "# Натренировать нейронную сеть\n",
    "history = network.fit(\n",
    "    features_train, # Признаки\n",
    "    target_train, # Вектор целей\n",
    "    epochs=3, # Количество эпох\n",
    "    verbose=0, # Вывода нет\n",
    "    batch_size=100, # Количество наблюдений на пакет\n",
    "    validation_data=(features_test, target_test)) # Тестовые данные\n",
    "\n",
    "# Предсказать классы тестового набора\n",
    "predicted_target = network.predict(features_test)"
   ]
  },
  {
   "cell_type": "code",
   "execution_count": null,
   "id": "ca54ea0d",
   "metadata": {},
   "outputs": [],
   "source": []
  }
 ],
 "metadata": {
  "kernelspec": {
   "display_name": "Python 3",
   "language": "python",
   "name": "python3"
  },
  "language_info": {
   "codemirror_mode": {
    "name": "ipython",
    "version": 3
   },
   "file_extension": ".py",
   "mimetype": "text/x-python",
   "name": "python",
   "nbconvert_exporter": "python",
   "pygments_lexer": "ipython3",
   "version": "3.8.8"
  }
 },
 "nbformat": 4,
 "nbformat_minor": 5
}
